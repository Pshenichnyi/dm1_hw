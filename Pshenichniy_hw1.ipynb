{
 "cells": [
  {
   "cell_type": "markdown",
   "metadata": {},
   "source": [
    "**Общая информация**\n",
    "\n",
    "**Срок сдачи:** 20 марта 2019, 06:00 <br\\>\n",
    "**Штраф за опоздание:** -1 балл после 06:00 20 марта, -2 балла после 06:00 27 марта, -3 балла после 06:00 3 апреля\n",
    "\n",
    "При отправлении ДЗ указывайте фамилию в названии файла\n",
    "Присылать ДЗ необходимо в виде ссылки на свой github репозиторий в slack @alkhamush\n",
    "\n",
    "Необходимо в slack скинуть ссылку в личный чат @alkhamush\n",
    "Пример ссылки:\n",
    "https://github.com/stroykova/spheremailru/stroykova_hw1.ipynb \n",
    "\n",
    "\n",
    "Используйте данный Ipython Notebook при оформлении домашнего задания."
   ]
  },
  {
   "cell_type": "markdown",
   "metadata": {},
   "source": [
    "###### Задание 1 (2 баллов)\n",
    "Реализовать KNN в классе MyKNeighborsClassifier (обязательное условие: точность не ниже sklearn реализации)\n",
    "Разберитесь самостоятельно, какая мера расстояния используется в KNeighborsClassifier дефолтно и реализуйте свой алгоритм именно с этой мерой. Самостоятельно разберитесь, как считается score из KNeighborsClassifier и реализуйте аналог в своём классе. Score не должен уступать значению KNN из sklearn\n",
    "\n",
    "###### Задание 2 (2 балла)\n",
    "Добиться скорости работы на fit,  predict и predict_proba сравнимой со sklearn для iris и mnist\n",
    "Для этого используем numpy\n",
    "\n",
    "###### Задание 3 (2 балла)\n",
    "Для iris найдите такой параметр n_neighbors, при котором выдаётся наилучший score. Нарисуйте график зависимости score от n_neighbors\n",
    "\n",
    "###### Задание 4 (3 балла)\n",
    "Добавить algorithm='kd_tree' в реализацию KNN (использовать KDTree из sklearn.neighbors). Значение n_neighbors нужно взять из задания 3. Добиться скорости работы на fit,  predict и predict_proba сравнимой со sklearn для iris и mnist\n",
    "Для этого используем numpy. Score не должен уступать значению KNN из sklearn\n",
    "\n",
    "###### Задание 5 (1 балла)\n",
    "Описать для чего нужны следующие библиотеки/классы/функции (список будет ниже)\n",
    "\n",
    "**Штрафные баллы:**\n",
    "\n",
    "1. Невыполнение PEP8 -1 балл\n",
    "2. Отсутствие фамилии в имени скрипта (скрипт должен называться по аналогии со stroykova_hw1.ipynb) -1 балл\n",
    "3. Все строчки должны быть выполнены. Нужно, чтобы output команды можно было увидеть уже в git'е. В противном случае -1 балл\n",
    "4. При оформлении ДЗ нужно пользоваться данным файлом в качестве шаблона. Не нужно удалять и видоизменять структуру кода и текст. В противном случае -1 балл\n"
   ]
  },
  {
   "cell_type": "code",
   "execution_count": 2,
   "metadata": {},
   "outputs": [],
   "source": [
    "import numpy as np\n",
    "import matplotlib.pyplot as plt\n",
    "\n",
    "import seaborn as sns\n",
    "from sklearn import datasets\n",
    "from sklearn.base import ClassifierMixin\n",
    "from sklearn.datasets import fetch_mldata\n",
    "from sklearn.neighbors.base import NeighborsBase, KNeighborsMixin, SupervisedIntegerMixin \n",
    "from sklearn.model_selection import train_test_split\n",
    "from sklearn.neighbors import KNeighborsClassifier\n",
    "import scipy\n",
    "from scipy.spatial.distance import cdist\n",
    "from sklearn.neighbors import KDTree\n",
    "\n",
    "%load_ext pycodestyle_magic"
   ]
  },
  {
   "cell_type": "code",
   "execution_count": 3,
   "metadata": {},
   "outputs": [],
   "source": [
    "#%%pycodestyle\n",
    "\n",
    "\n",
    "class MyKNeighborsClassifier(NeighborsBase, KNeighborsMixin,\n",
    "                             SupervisedIntegerMixin, ClassifierMixin):\n",
    "\n",
    "    def __init__(self, n_neighbors, algorithm='brute'):\n",
    "        self.n_neighbors = n_neighbors\n",
    "        self.algorithm = algorithm\n",
    "\n",
    "    def fit(self, X, y):\n",
    "        self.X = np.array(X)\n",
    "        self.y = np.int8(y)\n",
    "        self.classes = np.unique(self.y)\n",
    "        if (self.algorithm == 'kd_tree'):\n",
    "            self.tree = KDTree(X)\n",
    "\n",
    "    def predict(self, X):\n",
    "        return np.argmax(self.predict_proba(X), axis=1)\n",
    "\n",
    "    def predict_proba(self, X):\n",
    "        y_pred = np.zeros((X.shape[0], self.classes.shape[0]))\n",
    "        if (self.algorithm == 'brute'):\n",
    "            dist = cdist(X, self.X)\n",
    "            nearest_args = np.argpartition(dist, self.n_neighbors)\n",
    "            nearest_args = nearest_args[:, 0:self.n_neighbors]\n",
    "        elif (self.algorithm == 'kd_tree'):\n",
    "            d, nearest_args = self.tree.query(X, k=self.n_neighbors)\n",
    "\n",
    "        for (i, args_i) in enumerate(nearest_args):\n",
    "            for x in args_i:\n",
    "                y_pred[i, self.y[x]] += 1.\n",
    "            y_pred[i] = y_pred[i]/self.n_neighbors\n",
    "\n",
    "        return y_pred\n",
    "\n",
    "    def score(self, X, y):\n",
    "        y_test = self.predict(X)\n",
    "        return float((y_test == np.array(y)).sum()) / y.shape[0]"
   ]
  },
  {
   "cell_type": "markdown",
   "metadata": {},
   "source": [
    "**IRIS**"
   ]
  },
  {
   "cell_type": "code",
   "execution_count": 290,
   "metadata": {},
   "outputs": [],
   "source": [
    "iris = datasets.load_iris()"
   ]
  },
  {
   "cell_type": "code",
   "execution_count": 291,
   "metadata": {},
   "outputs": [],
   "source": [
    "X_train, X_test, y_train, y_test = train_test_split(iris.data, iris.target, test_size=0.1, stratify=iris.target)"
   ]
  },
  {
   "cell_type": "code",
   "execution_count": 292,
   "metadata": {},
   "outputs": [],
   "source": [
    "clf = KNeighborsClassifier(n_neighbors=2)\n",
    "my_clf = MyKNeighborsClassifier(n_neighbors=2)"
   ]
  },
  {
   "cell_type": "code",
   "execution_count": 293,
   "metadata": {},
   "outputs": [
    {
     "name": "stdout",
     "output_type": "stream",
     "text": [
      "CPU times: user 1.25 ms, sys: 0 ns, total: 1.25 ms\n",
      "Wall time: 820 µs\n"
     ]
    },
    {
     "data": {
      "text/plain": [
       "KNeighborsClassifier(algorithm='auto', leaf_size=30, metric='minkowski',\n",
       "           metric_params=None, n_jobs=None, n_neighbors=2, p=2,\n",
       "           weights='uniform')"
      ]
     },
     "execution_count": 293,
     "metadata": {},
     "output_type": "execute_result"
    }
   ],
   "source": [
    "%time clf.fit(X_train, y_train)"
   ]
  },
  {
   "cell_type": "code",
   "execution_count": 294,
   "metadata": {},
   "outputs": [
    {
     "name": "stdout",
     "output_type": "stream",
     "text": [
      "CPU times: user 157 µs, sys: 10 µs, total: 167 µs\n",
      "Wall time: 107 µs\n"
     ]
    }
   ],
   "source": [
    "%time my_clf.fit(X_train, y_train)"
   ]
  },
  {
   "cell_type": "code",
   "execution_count": 295,
   "metadata": {},
   "outputs": [
    {
     "name": "stdout",
     "output_type": "stream",
     "text": [
      "CPU times: user 1.04 ms, sys: 0 ns, total: 1.04 ms\n",
      "Wall time: 741 µs\n"
     ]
    },
    {
     "data": {
      "text/plain": [
       "array([1, 2, 2, 0, 0, 0, 2, 2, 1, 0, 1, 0, 1, 1, 1])"
      ]
     },
     "execution_count": 295,
     "metadata": {},
     "output_type": "execute_result"
    }
   ],
   "source": [
    "%time clf.predict(X_test)"
   ]
  },
  {
   "cell_type": "code",
   "execution_count": 296,
   "metadata": {},
   "outputs": [
    {
     "name": "stdout",
     "output_type": "stream",
     "text": [
      "CPU times: user 538 µs, sys: 0 ns, total: 538 µs\n",
      "Wall time: 302 µs\n"
     ]
    },
    {
     "data": {
      "text/plain": [
       "array([1, 2, 2, 0, 0, 0, 2, 2, 1, 0, 1, 0, 1, 1, 1])"
      ]
     },
     "execution_count": 296,
     "metadata": {},
     "output_type": "execute_result"
    }
   ],
   "source": [
    "%time my_clf.predict(X_test)"
   ]
  },
  {
   "cell_type": "code",
   "execution_count": 297,
   "metadata": {},
   "outputs": [
    {
     "name": "stdout",
     "output_type": "stream",
     "text": [
      "CPU times: user 1.37 ms, sys: 0 ns, total: 1.37 ms\n",
      "Wall time: 1.1 ms\n"
     ]
    },
    {
     "data": {
      "text/plain": [
       "array([[0. , 1. , 0. ],\n",
       "       [0. , 0. , 1. ],\n",
       "       [0. , 0. , 1. ],\n",
       "       [1. , 0. , 0. ],\n",
       "       [1. , 0. , 0. ],\n",
       "       [1. , 0. , 0. ],\n",
       "       [0. , 0. , 1. ],\n",
       "       [0. , 0. , 1. ],\n",
       "       [0. , 0.5, 0.5],\n",
       "       [1. , 0. , 0. ],\n",
       "       [0. , 1. , 0. ],\n",
       "       [1. , 0. , 0. ],\n",
       "       [0. , 1. , 0. ],\n",
       "       [0. , 1. , 0. ],\n",
       "       [0. , 1. , 0. ]])"
      ]
     },
     "execution_count": 297,
     "metadata": {},
     "output_type": "execute_result"
    }
   ],
   "source": [
    "%time clf.predict_proba(X_test)"
   ]
  },
  {
   "cell_type": "code",
   "execution_count": 298,
   "metadata": {},
   "outputs": [
    {
     "name": "stdout",
     "output_type": "stream",
     "text": [
      "CPU times: user 892 µs, sys: 0 ns, total: 892 µs\n",
      "Wall time: 475 µs\n"
     ]
    },
    {
     "data": {
      "text/plain": [
       "array([[0. , 1. , 0. ],\n",
       "       [0. , 0. , 1. ],\n",
       "       [0. , 0. , 1. ],\n",
       "       [1. , 0. , 0. ],\n",
       "       [1. , 0. , 0. ],\n",
       "       [1. , 0. , 0. ],\n",
       "       [0. , 0. , 1. ],\n",
       "       [0. , 0. , 1. ],\n",
       "       [0. , 0.5, 0.5],\n",
       "       [1. , 0. , 0. ],\n",
       "       [0. , 1. , 0. ],\n",
       "       [1. , 0. , 0. ],\n",
       "       [0. , 1. , 0. ],\n",
       "       [0. , 1. , 0. ],\n",
       "       [0. , 1. , 0. ]])"
      ]
     },
     "execution_count": 298,
     "metadata": {},
     "output_type": "execute_result"
    }
   ],
   "source": [
    "%time my_clf.predict_proba(X_test)"
   ]
  },
  {
   "cell_type": "code",
   "execution_count": 299,
   "metadata": {},
   "outputs": [
    {
     "data": {
      "text/plain": [
       "0.9333333333333333"
      ]
     },
     "execution_count": 299,
     "metadata": {},
     "output_type": "execute_result"
    }
   ],
   "source": [
    "clf.score(X_test, y_test)"
   ]
  },
  {
   "cell_type": "code",
   "execution_count": 300,
   "metadata": {},
   "outputs": [
    {
     "data": {
      "text/plain": [
       "0.9333333333333333"
      ]
     },
     "execution_count": 300,
     "metadata": {},
     "output_type": "execute_result"
    }
   ],
   "source": [
    "my_clf.score(X_test, y_test)"
   ]
  },
  {
   "cell_type": "markdown",
   "metadata": {},
   "source": [
    "Задание 3"
   ]
  },
  {
   "cell_type": "code",
   "execution_count": 269,
   "metadata": {},
   "outputs": [
    {
     "name": "stdout",
     "output_type": "stream",
     "text": [
      "16\n"
     ]
    },
    {
     "data": {
      "image/png": "[encoded data removed]",
      "text/plain": [
       "<Figure size 432x288 with 1 Axes>"
      ]
     },
     "metadata": {
      "needs_background": "light"
     },
     "output_type": "display_data"
    }
   ],
   "source": [
    "score_list = []\n",
    "n_try = 500\n",
    "for i in range(1, 50):\n",
    "    score = 0.\n",
    "    for j in range(1, n_try):\n",
    "        (X_train, X_test,\n",
    "         y_train, y_test) = train_test_split(iris.data,\n",
    "                                             iris.target,\n",
    "                                             test_size=0.1,\n",
    "                                             stratify=iris.target)\n",
    "\n",
    "        my_clf = MyKNeighborsClassifier(n_neighbors=i)\n",
    "        my_clf.fit(X_train, y_train)\n",
    "        score += my_clf.score(X_test, y_test)\n",
    "\n",
    "    score_list.append(score/n_try)\n",
    "\n",
    "best_n_neighbors = np.argmax(score_list)\n",
    "best_score = np.max(score_list)\n",
    "print(best_n_neighbors)\n",
    "\n",
    "fig = plt.plot(score_list)\n",
    "plt.ylim(0.9, 1.0)\n",
    "plt.ylabel('Score')\n",
    "plt.xlabel('n_neighbors')\n",
    "plt.annotate('best_score', xy=(best_n_neighbors, best_score),\n",
    "             xytext=(best_n_neighbors, best_score+0.01),\n",
    "             arrowprops=dict(facecolor='black', shrink=0.9),\n",
    "             )\n",
    "plt.show()"
   ]
  },
  {
   "cell_type": "markdown",
   "metadata": {},
   "source": [
    "**MNIST**"
   ]
  },
  {
   "cell_type": "code",
   "execution_count": 6,
   "metadata": {},
   "outputs": [
    {
     "name": "stderr",
     "output_type": "stream",
     "text": [
      "/home/nikolai/anaconda3/lib/python3.7/site-packages/sklearn/utils/deprecation.py:77: DeprecationWarning: Function fetch_mldata is deprecated; fetch_mldata was deprecated in version 0.20 and will be removed in version 0.22\n",
      "  warnings.warn(msg, category=DeprecationWarning)\n",
      "/home/nikolai/anaconda3/lib/python3.7/site-packages/sklearn/utils/deprecation.py:77: DeprecationWarning: Function mldata_filename is deprecated; mldata_filename was deprecated in version 0.20 and will be removed in version 0.22\n",
      "  warnings.warn(msg, category=DeprecationWarning)\n"
     ]
    }
   ],
   "source": [
    "mnist = fetch_mldata('MNIST original')"
   ]
  },
  {
   "cell_type": "code",
   "execution_count": 271,
   "metadata": {},
   "outputs": [],
   "source": [
    "X_train, X_test, y_train, y_test = train_test_split(mnist.data, mnist.target, test_size=0.01, stratify=mnist.target)"
   ]
  },
  {
   "cell_type": "code",
   "execution_count": 272,
   "metadata": {},
   "outputs": [],
   "source": [
    "clf = KNeighborsClassifier(n_neighbors=2)\n",
    "my_clf = MyKNeighborsClassifier(n_neighbors=2)"
   ]
  },
  {
   "cell_type": "code",
   "execution_count": 273,
   "metadata": {},
   "outputs": [
    {
     "name": "stdout",
     "output_type": "stream",
     "text": [
      "CPU times: user 22.1 s, sys: 153 ms, total: 22.2 s\n",
      "Wall time: 22.2 s\n"
     ]
    },
    {
     "data": {
      "text/plain": [
       "KNeighborsClassifier(algorithm='auto', leaf_size=30, metric='minkowski',\n",
       "           metric_params=None, n_jobs=None, n_neighbors=2, p=2,\n",
       "           weights='uniform')"
      ]
     },
     "execution_count": 273,
     "metadata": {},
     "output_type": "execute_result"
    }
   ],
   "source": [
    "%time clf.fit(X_train, y_train)"
   ]
  },
  {
   "cell_type": "code",
   "execution_count": 274,
   "metadata": {},
   "outputs": [
    {
     "name": "stdout",
     "output_type": "stream",
     "text": [
      "CPU times: user 12.4 ms, sys: 22.1 ms, total: 34.5 ms\n",
      "Wall time: 8.79 ms\n"
     ]
    }
   ],
   "source": [
    "%time my_clf.fit(X_train, y_train)"
   ]
  },
  {
   "cell_type": "code",
   "execution_count": 275,
   "metadata": {},
   "outputs": [
    {
     "name": "stdout",
     "output_type": "stream",
     "text": [
      "CPU times: user 1min 4s, sys: 0 ns, total: 1min 4s\n",
      "Wall time: 1min 3s\n"
     ]
    },
    {
     "data": {
      "text/plain": [
       "array([2., 6., 5., 2., 4., 8., 6., 7., 6., 8., 8., 9., 3., 1., 0., 1., 6.,\n",
       "       1., 3., 3., 6., 7., 5., 7., 1., 2., 4., 7., 7., 5., 2., 0., 1., 9.,\n",
       "       9., 1., 1., 6., 4., 3., 0., 9., 0., 3., 1., 7., 4., 9., 1., 1., 3.,\n",
       "       6., 1., 8., 8., 9., 3., 6., 5., 7., 6., 7., 8., 5., 8., 3., 7., 7.,\n",
       "       5., 0., 7., 9., 0., 9., 7., 4., 5., 7., 9., 9., 4., 9., 6., 8., 6.,\n",
       "       3., 9., 8., 3., 4., 4., 0., 2., 4., 1., 3., 3., 9., 9., 3., 5., 5.,\n",
       "       7., 7., 3., 4., 9., 7., 5., 0., 3., 1., 3., 0., 5., 7., 7., 5., 8.,\n",
       "       7., 9., 3., 8., 1., 5., 7., 3., 8., 5., 2., 2., 0., 0., 1., 3., 0.,\n",
       "       1., 1., 3., 0., 3., 0., 6., 4., 7., 7., 0., 2., 9., 5., 4., 4., 8.,\n",
       "       4., 3., 9., 6., 3., 2., 3., 7., 1., 1., 9., 8., 8., 4., 9., 3., 7.,\n",
       "       3., 2., 2., 9., 2., 8., 0., 1., 0., 4., 9., 6., 2., 2., 4., 0., 1.,\n",
       "       8., 8., 4., 2., 9., 1., 0., 6., 4., 7., 6., 5., 7., 2., 2., 3., 5.,\n",
       "       8., 5., 6., 5., 5., 7., 4., 5., 3., 6., 2., 0., 5., 7., 1., 2., 6.,\n",
       "       3., 5., 7., 5., 0., 0., 8., 7., 5., 6., 1., 1., 0., 1., 5., 6., 2.,\n",
       "       3., 3., 5., 4., 9., 2., 7., 3., 8., 9., 6., 6., 2., 6., 3., 9., 9.,\n",
       "       0., 2., 9., 1., 7., 6., 7., 7., 9., 9., 0., 2., 1., 0., 1., 4., 2.,\n",
       "       7., 0., 7., 1., 6., 3., 3., 9., 7., 5., 1., 5., 8., 6., 1., 1., 0.,\n",
       "       1., 6., 2., 4., 5., 0., 1., 5., 4., 3., 9., 7., 8., 5., 8., 1., 4.,\n",
       "       9., 7., 1., 6., 1., 3., 7., 1., 5., 3., 5., 6., 7., 4., 1., 9., 1.,\n",
       "       1., 4., 9., 5., 2., 1., 9., 0., 5., 0., 3., 7., 3., 4., 4., 0., 8.,\n",
       "       5., 9., 3., 9., 8., 3., 6., 8., 5., 2., 9., 3., 2., 7., 2., 0., 3.,\n",
       "       9., 0., 5., 6., 4., 1., 2., 4., 8., 4., 7., 8., 8., 3., 3., 6., 6.,\n",
       "       0., 0., 5., 0., 1., 6., 9., 8., 8., 5., 8., 4., 2., 3., 1., 8., 4.,\n",
       "       2., 9., 6., 4., 4., 7., 7., 7., 7., 8., 3., 7., 3., 1., 1., 2., 9.,\n",
       "       7., 7., 3., 5., 3., 6., 7., 5., 1., 2., 9., 6., 4., 5., 0., 4., 7.,\n",
       "       2., 2., 8., 0., 5., 6., 3., 1., 2., 8., 1., 1., 7., 7., 4., 1., 7.,\n",
       "       6., 8., 6., 0., 3., 8., 8., 1., 0., 2., 5., 0., 3., 4., 2., 1., 8.,\n",
       "       3., 4., 2., 9., 4., 5., 8., 9., 2., 2., 2., 0., 8., 6., 7., 4., 7.,\n",
       "       5., 8., 3., 6., 6., 8., 0., 8., 5., 8., 7., 6., 6., 6., 1., 1., 9.,\n",
       "       4., 2., 0., 1., 1., 3., 3., 4., 6., 2., 7., 9., 6., 6., 6., 0., 4.,\n",
       "       1., 0., 7., 6., 2., 5., 5., 9., 0., 8., 3., 3., 3., 0., 6., 9., 7.,\n",
       "       5., 1., 3., 7., 0., 6., 7., 7., 9., 9., 6., 4., 0., 3., 9., 1., 2.,\n",
       "       0., 2., 9., 9., 9., 1., 2., 0., 8., 4., 0., 4., 5., 6., 4., 1., 4.,\n",
       "       0., 3., 9., 6., 9., 6., 1., 2., 2., 0., 6., 1., 8., 6., 0., 3., 6.,\n",
       "       1., 8., 4., 8., 4., 8., 0., 2., 1., 0., 4., 8., 2., 4., 2., 1., 3.,\n",
       "       1., 3., 2., 8., 3., 9., 7., 4., 3., 4., 7., 0., 5., 4., 2., 9., 6.,\n",
       "       4., 3., 6., 1., 7., 0., 2., 0., 4., 0., 2., 7., 0., 9., 6., 3., 7.,\n",
       "       0., 8., 6., 2., 5., 9., 0., 5., 9., 5., 3., 6., 1., 6., 3., 8., 5.,\n",
       "       1., 2., 1., 3., 4., 0., 4., 1., 7., 1., 9., 3., 9., 4., 4., 2., 1.,\n",
       "       1., 2., 4., 4., 2., 8., 1., 1., 2., 5., 3., 7., 2., 9., 4., 6., 6.,\n",
       "       8., 2., 7., 2., 1., 0., 2., 9., 0., 8., 2., 7., 9., 6., 4., 1., 8.,\n",
       "       4., 2., 7.])"
      ]
     },
     "execution_count": 275,
     "metadata": {},
     "output_type": "execute_result"
    }
   ],
   "source": [
    "%time clf.predict(X_test)"
   ]
  },
  {
   "cell_type": "code",
   "execution_count": 276,
   "metadata": {},
   "outputs": [
    {
     "name": "stdout",
     "output_type": "stream",
     "text": [
      "CPU times: user 26.2 s, sys: 307 ms, total: 26.5 s\n",
      "Wall time: 26.6 s\n"
     ]
    },
    {
     "data": {
      "text/plain": [
       "array([2, 6, 5, 2, 4, 8, 6, 7, 6, 8, 8, 9, 3, 1, 0, 1, 6, 1, 3, 3, 6, 7,\n",
       "       5, 7, 1, 2, 4, 7, 7, 5, 2, 0, 1, 9, 9, 1, 1, 6, 4, 3, 0, 9, 0, 3,\n",
       "       1, 7, 4, 9, 1, 1, 3, 6, 1, 8, 8, 9, 3, 6, 5, 7, 6, 7, 8, 5, 8, 3,\n",
       "       7, 7, 5, 0, 7, 9, 0, 9, 7, 4, 5, 7, 9, 9, 4, 9, 6, 8, 6, 3, 9, 8,\n",
       "       3, 4, 4, 0, 2, 4, 1, 3, 3, 9, 9, 3, 5, 5, 7, 7, 3, 4, 9, 7, 5, 0,\n",
       "       3, 1, 3, 0, 5, 7, 7, 5, 8, 7, 9, 3, 8, 1, 5, 7, 3, 8, 5, 2, 2, 0,\n",
       "       0, 1, 3, 0, 1, 1, 3, 0, 3, 0, 6, 4, 7, 7, 0, 2, 9, 5, 4, 4, 8, 4,\n",
       "       3, 9, 6, 3, 2, 3, 7, 1, 1, 9, 8, 8, 4, 9, 3, 7, 3, 2, 2, 9, 2, 8,\n",
       "       0, 1, 0, 4, 9, 6, 2, 2, 4, 0, 1, 8, 8, 4, 2, 9, 1, 0, 6, 4, 7, 6,\n",
       "       5, 7, 2, 2, 3, 5, 8, 5, 6, 5, 5, 7, 4, 5, 3, 6, 2, 0, 5, 7, 1, 2,\n",
       "       6, 3, 5, 7, 5, 0, 0, 8, 7, 5, 6, 1, 1, 0, 1, 5, 6, 2, 3, 3, 5, 4,\n",
       "       9, 2, 7, 3, 8, 9, 6, 6, 2, 6, 3, 9, 9, 0, 2, 9, 1, 7, 6, 7, 7, 9,\n",
       "       9, 0, 2, 1, 0, 1, 4, 2, 7, 0, 7, 1, 6, 3, 3, 9, 7, 5, 1, 5, 8, 6,\n",
       "       1, 1, 0, 1, 6, 2, 4, 5, 0, 1, 5, 4, 3, 9, 7, 8, 5, 8, 1, 4, 9, 7,\n",
       "       1, 6, 1, 3, 7, 1, 5, 3, 5, 6, 7, 4, 1, 9, 1, 1, 4, 9, 5, 2, 1, 9,\n",
       "       0, 5, 0, 3, 7, 3, 4, 4, 0, 8, 5, 9, 3, 9, 8, 3, 6, 8, 5, 2, 9, 3,\n",
       "       2, 7, 2, 0, 3, 9, 0, 5, 6, 4, 1, 2, 4, 8, 4, 7, 8, 8, 3, 3, 6, 6,\n",
       "       0, 0, 5, 0, 1, 6, 9, 8, 8, 5, 8, 4, 2, 3, 1, 8, 4, 2, 9, 6, 4, 4,\n",
       "       7, 7, 7, 7, 8, 3, 7, 3, 1, 1, 2, 9, 7, 7, 3, 5, 3, 6, 7, 5, 1, 2,\n",
       "       9, 6, 4, 5, 0, 4, 7, 2, 2, 8, 0, 5, 6, 3, 1, 2, 8, 1, 1, 7, 7, 4,\n",
       "       1, 7, 6, 8, 6, 0, 3, 8, 8, 1, 0, 2, 5, 0, 3, 4, 2, 1, 8, 3, 4, 2,\n",
       "       9, 4, 5, 8, 9, 2, 2, 2, 0, 8, 6, 7, 4, 7, 5, 8, 3, 6, 6, 8, 0, 8,\n",
       "       5, 8, 7, 6, 6, 6, 1, 1, 9, 4, 2, 0, 1, 1, 3, 3, 4, 6, 2, 7, 9, 6,\n",
       "       6, 6, 0, 4, 1, 0, 7, 6, 2, 5, 5, 9, 0, 8, 3, 3, 3, 0, 6, 9, 7, 5,\n",
       "       1, 3, 7, 0, 6, 7, 7, 9, 9, 6, 4, 0, 3, 9, 1, 2, 0, 2, 9, 9, 9, 1,\n",
       "       2, 0, 8, 4, 0, 4, 5, 6, 4, 1, 4, 0, 3, 9, 6, 9, 6, 1, 2, 2, 0, 6,\n",
       "       1, 8, 6, 0, 3, 6, 1, 8, 4, 8, 4, 8, 0, 2, 1, 0, 4, 8, 2, 4, 2, 1,\n",
       "       3, 1, 3, 2, 8, 3, 9, 7, 4, 3, 4, 7, 0, 5, 4, 2, 9, 6, 4, 3, 6, 1,\n",
       "       7, 0, 2, 0, 4, 0, 2, 7, 0, 9, 6, 3, 7, 0, 8, 6, 2, 5, 9, 0, 5, 9,\n",
       "       5, 3, 6, 1, 6, 3, 8, 5, 1, 2, 1, 3, 4, 0, 4, 1, 7, 1, 9, 3, 9, 4,\n",
       "       4, 2, 1, 1, 2, 4, 4, 2, 8, 1, 1, 2, 5, 3, 7, 2, 9, 4, 6, 6, 8, 2,\n",
       "       7, 2, 1, 0, 2, 9, 0, 8, 2, 7, 9, 6, 4, 1, 8, 4, 2, 7])"
      ]
     },
     "execution_count": 276,
     "metadata": {},
     "output_type": "execute_result"
    }
   ],
   "source": [
    "%time my_clf.predict(X_test)"
   ]
  },
  {
   "cell_type": "code",
   "execution_count": 277,
   "metadata": {},
   "outputs": [
    {
     "name": "stdout",
     "output_type": "stream",
     "text": [
      "CPU times: user 1min 1s, sys: 0 ns, total: 1min 1s\n",
      "Wall time: 1min 1s\n"
     ]
    },
    {
     "data": {
      "text/plain": [
       "array([[0., 0., 1., ..., 0., 0., 0.],\n",
       "       [0., 0., 0., ..., 0., 0., 0.],\n",
       "       [0., 0., 0., ..., 0., 0., 0.],\n",
       "       ...,\n",
       "       [0., 0., 0., ..., 0., 0., 0.],\n",
       "       [0., 0., 1., ..., 0., 0., 0.],\n",
       "       [0., 0., 0., ..., 1., 0., 0.]])"
      ]
     },
     "execution_count": 277,
     "metadata": {},
     "output_type": "execute_result"
    }
   ],
   "source": [
    "%time clf.predict_proba(X_test)"
   ]
  },
  {
   "cell_type": "code",
   "execution_count": 278,
   "metadata": {},
   "outputs": [
    {
     "name": "stdout",
     "output_type": "stream",
     "text": [
      "CPU times: user 21.6 s, sys: 274 ms, total: 21.9 s\n",
      "Wall time: 21.9 s\n"
     ]
    },
    {
     "data": {
      "text/plain": [
       "array([[0., 0., 1., ..., 0., 0., 0.],\n",
       "       [0., 0., 0., ..., 0., 0., 0.],\n",
       "       [0., 0., 0., ..., 0., 0., 0.],\n",
       "       ...,\n",
       "       [0., 0., 0., ..., 0., 0., 0.],\n",
       "       [0., 0., 1., ..., 0., 0., 0.],\n",
       "       [0., 0., 0., ..., 1., 0., 0.]])"
      ]
     },
     "execution_count": 278,
     "metadata": {},
     "output_type": "execute_result"
    }
   ],
   "source": [
    "%time my_clf.predict_proba(X_test)"
   ]
  },
  {
   "cell_type": "code",
   "execution_count": 279,
   "metadata": {},
   "outputs": [
    {
     "data": {
      "text/plain": [
       "0.97"
      ]
     },
     "execution_count": 279,
     "metadata": {},
     "output_type": "execute_result"
    }
   ],
   "source": [
    "clf.score(X_test, y_test)"
   ]
  },
  {
   "cell_type": "code",
   "execution_count": 280,
   "metadata": {},
   "outputs": [
    {
     "name": "stdout",
     "output_type": "stream",
     "text": [
      "CPU times: user 24.4 s, sys: 330 ms, total: 24.8 s\n",
      "Wall time: 24.8 s\n"
     ]
    },
    {
     "data": {
      "text/plain": [
       "0.97"
      ]
     },
     "execution_count": 280,
     "metadata": {},
     "output_type": "execute_result"
    }
   ],
   "source": [
    "%time my_clf.score(X_test, y_test)"
   ]
  },
  {
   "cell_type": "markdown",
   "metadata": {},
   "source": [
    "Задание 4"
   ]
  },
  {
   "cell_type": "code",
   "execution_count": 7,
   "metadata": {},
   "outputs": [],
   "source": [
    "# я так понял, из условия задачи n_neighbors нужно взять как значение из задачи 3, т.е. 16\n",
    "clf = KNeighborsClassifier(n_neighbors=16, algorithm='kd_tree')\n",
    "my_clf = MyKNeighborsClassifier(n_neighbors=16, algorithm='kd_tree')"
   ]
  },
  {
   "cell_type": "code",
   "execution_count": 8,
   "metadata": {},
   "outputs": [],
   "source": [
    "X_train, X_test, y_train, y_test = train_test_split(mnist.data, mnist.target, test_size=0.01, stratify=mnist.target)"
   ]
  },
  {
   "cell_type": "code",
   "execution_count": 9,
   "metadata": {},
   "outputs": [
    {
     "name": "stdout",
     "output_type": "stream",
     "text": [
      "CPU times: user 22.6 s, sys: 141 ms, total: 22.8 s\n",
      "Wall time: 22.7 s\n"
     ]
    },
    {
     "data": {
      "text/plain": [
       "KNeighborsClassifier(algorithm='kd_tree', leaf_size=30, metric='minkowski',\n",
       "           metric_params=None, n_jobs=None, n_neighbors=16, p=2,\n",
       "           weights='uniform')"
      ]
     },
     "execution_count": 9,
     "metadata": {},
     "output_type": "execute_result"
    }
   ],
   "source": [
    "%time clf.fit(X_train, y_train)"
   ]
  },
  {
   "cell_type": "code",
   "execution_count": 10,
   "metadata": {},
   "outputs": [
    {
     "name": "stdout",
     "output_type": "stream",
     "text": [
      "CPU times: user 24.7 s, sys: 168 ms, total: 24.9 s\n",
      "Wall time: 24.2 s\n"
     ]
    }
   ],
   "source": [
    "%time my_clf.fit(X_train, y_train)"
   ]
  },
  {
   "cell_type": "code",
   "execution_count": 11,
   "metadata": {},
   "outputs": [
    {
     "name": "stdout",
     "output_type": "stream",
     "text": [
      "CPU times: user 58.9 s, sys: 11.6 ms, total: 59 s\n",
      "Wall time: 59 s\n"
     ]
    },
    {
     "data": {
      "text/plain": [
       "array([0., 2., 4., 4., 8., 8., 5., 9., 6., 1., 7., 9., 2., 8., 1., 2., 4.,\n",
       "       6., 1., 0., 8., 1., 8., 1., 4., 2., 0., 3., 7., 9., 8., 1., 5., 5.,\n",
       "       5., 9., 8., 6., 1., 0., 5., 0., 8., 0., 7., 8., 3., 3., 4., 8., 6.,\n",
       "       3., 2., 5., 3., 1., 3., 2., 5., 4., 6., 2., 6., 7., 3., 5., 2., 2.,\n",
       "       1., 3., 8., 6., 2., 6., 0., 1., 2., 3., 6., 7., 7., 7., 1., 3., 3.,\n",
       "       5., 5., 0., 7., 5., 3., 9., 3., 1., 2., 0., 8., 6., 1., 2., 5., 6.,\n",
       "       0., 4., 6., 1., 5., 6., 6., 2., 5., 7., 3., 6., 3., 2., 9., 0., 4.,\n",
       "       4., 7., 4., 3., 8., 4., 2., 1., 3., 7., 7., 4., 4., 0., 3., 4., 3.,\n",
       "       2., 7., 1., 1., 0., 3., 1., 8., 1., 4., 1., 8., 2., 5., 2., 7., 3.,\n",
       "       0., 8., 3., 7., 6., 4., 7., 4., 4., 4., 9., 3., 3., 2., 2., 6., 0.,\n",
       "       7., 9., 3., 3., 5., 9., 3., 3., 0., 7., 0., 7., 7., 1., 5., 1., 6.,\n",
       "       8., 8., 4., 4., 3., 9., 1., 0., 0., 3., 1., 4., 8., 4., 1., 8., 5.,\n",
       "       9., 2., 7., 8., 3., 0., 6., 6., 5., 3., 6., 3., 1., 0., 8., 4., 2.,\n",
       "       6., 9., 9., 2., 5., 4., 3., 9., 8., 6., 9., 0., 8., 5., 1., 4., 9.,\n",
       "       1., 1., 1., 9., 7., 3., 7., 5., 5., 2., 6., 0., 8., 4., 5., 8., 1.,\n",
       "       2., 4., 7., 3., 4., 8., 8., 9., 0., 4., 7., 9., 4., 8., 4., 7., 1.,\n",
       "       2., 1., 5., 1., 0., 2., 7., 1., 3., 0., 9., 1., 1., 9., 6., 4., 0.,\n",
       "       7., 5., 5., 7., 6., 1., 5., 8., 4., 8., 6., 3., 0., 2., 7., 6., 5.,\n",
       "       0., 2., 9., 5., 8., 2., 9., 2., 7., 3., 5., 4., 1., 0., 8., 9., 5.,\n",
       "       5., 4., 9., 8., 6., 2., 1., 0., 3., 9., 1., 6., 7., 8., 0., 4., 7.,\n",
       "       4., 5., 9., 9., 1., 5., 9., 7., 5., 8., 0., 6., 1., 8., 4., 9., 1.,\n",
       "       9., 1., 9., 7., 8., 6., 8., 8., 9., 3., 5., 0., 1., 8., 9., 6., 9.,\n",
       "       5., 8., 1., 2., 9., 7., 7., 4., 8., 0., 6., 0., 0., 0., 7., 4., 9.,\n",
       "       9., 1., 5., 2., 0., 2., 2., 4., 2., 6., 8., 0., 7., 3., 1., 4., 0.,\n",
       "       0., 8., 9., 0., 1., 5., 3., 6., 1., 8., 6., 3., 7., 7., 5., 7., 7.,\n",
       "       2., 0., 4., 1., 0., 2., 1., 6., 3., 4., 5., 0., 9., 7., 9., 1., 7.,\n",
       "       1., 1., 0., 5., 9., 0., 5., 1., 9., 3., 2., 9., 1., 6., 6., 7., 4.,\n",
       "       0., 5., 9., 0., 7., 2., 4., 6., 5., 1., 2., 2., 7., 2., 5., 7., 7.,\n",
       "       6., 7., 3., 6., 9., 8., 1., 9., 6., 2., 8., 7., 6., 6., 3., 6., 1.,\n",
       "       3., 1., 4., 9., 5., 8., 5., 3., 8., 1., 5., 3., 9., 3., 7., 4., 7.,\n",
       "       7., 3., 6., 0., 3., 2., 8., 7., 4., 4., 7., 9., 2., 2., 8., 0., 7.,\n",
       "       6., 2., 2., 1., 2., 9., 9., 0., 9., 9., 3., 6., 0., 5., 4., 8., 6.,\n",
       "       1., 1., 7., 2., 6., 0., 9., 4., 6., 6., 3., 7., 1., 6., 9., 4., 0.,\n",
       "       7., 1., 0., 0., 6., 7., 2., 1., 7., 4., 8., 0., 8., 0., 1., 7., 0.,\n",
       "       8., 9., 9., 5., 2., 4., 2., 4., 7., 6., 9., 7., 2., 3., 4., 1., 5.,\n",
       "       3., 0., 0., 7., 2., 9., 6., 1., 9., 6., 1., 4., 1., 3., 8., 6., 1.,\n",
       "       6., 9., 3., 2., 2., 8., 3., 4., 1., 6., 3., 6., 1., 5., 7., 4., 1.,\n",
       "       0., 0., 8., 7., 6., 1., 1., 0., 3., 0., 1., 9., 5., 7., 6., 7., 6.,\n",
       "       1., 4., 6., 0., 2., 9., 7., 1., 3., 3., 5., 3., 5., 4., 8., 4., 0.,\n",
       "       8., 5., 8., 6., 2., 3., 1., 2., 8., 4., 5., 4., 2., 9., 3., 5., 4.,\n",
       "       7., 3., 7., 5., 3., 8., 9., 5., 4., 5., 0., 2., 0., 3., 5., 0., 3.,\n",
       "       2., 4., 9.])"
      ]
     },
     "execution_count": 11,
     "metadata": {},
     "output_type": "execute_result"
    }
   ],
   "source": [
    "%time clf.predict(X_test)"
   ]
  },
  {
   "cell_type": "code",
   "execution_count": 12,
   "metadata": {},
   "outputs": [
    {
     "name": "stdout",
     "output_type": "stream",
     "text": [
      "CPU times: user 52.1 s, sys: 0 ns, total: 52.1 s\n",
      "Wall time: 52.1 s\n"
     ]
    },
    {
     "data": {
      "text/plain": [
       "array([0, 2, 4, 4, 8, 8, 5, 9, 6, 1, 7, 9, 2, 8, 1, 2, 4, 6, 1, 0, 8, 1,\n",
       "       8, 1, 4, 2, 0, 3, 7, 9, 8, 1, 5, 5, 5, 9, 8, 6, 1, 0, 5, 0, 8, 0,\n",
       "       7, 8, 3, 3, 4, 8, 6, 3, 2, 5, 3, 1, 3, 2, 5, 4, 6, 2, 6, 7, 3, 5,\n",
       "       2, 2, 1, 3, 8, 6, 2, 6, 0, 1, 2, 3, 6, 7, 7, 7, 1, 3, 3, 5, 5, 0,\n",
       "       7, 5, 3, 9, 3, 1, 2, 0, 8, 6, 1, 2, 5, 6, 0, 4, 6, 1, 5, 6, 6, 2,\n",
       "       5, 7, 3, 6, 3, 2, 9, 0, 4, 4, 7, 4, 3, 8, 4, 2, 1, 3, 7, 7, 4, 4,\n",
       "       0, 3, 4, 3, 2, 7, 1, 1, 0, 3, 1, 8, 1, 4, 1, 8, 2, 5, 2, 7, 3, 0,\n",
       "       8, 3, 7, 6, 4, 7, 4, 4, 4, 9, 3, 3, 2, 2, 6, 0, 7, 9, 3, 3, 5, 9,\n",
       "       3, 3, 0, 7, 0, 7, 7, 1, 5, 1, 6, 8, 8, 4, 4, 3, 9, 1, 0, 0, 3, 1,\n",
       "       4, 8, 4, 1, 8, 5, 9, 2, 7, 8, 3, 0, 6, 6, 5, 3, 6, 3, 1, 0, 8, 4,\n",
       "       2, 6, 9, 9, 2, 5, 4, 3, 9, 8, 6, 9, 0, 8, 5, 1, 4, 9, 1, 1, 1, 9,\n",
       "       7, 3, 7, 5, 5, 2, 6, 0, 8, 4, 5, 8, 1, 2, 4, 7, 3, 4, 8, 8, 9, 0,\n",
       "       4, 7, 9, 4, 8, 4, 7, 1, 2, 1, 5, 1, 0, 2, 7, 1, 3, 0, 9, 1, 1, 9,\n",
       "       6, 4, 0, 7, 5, 5, 7, 6, 1, 5, 8, 4, 8, 6, 3, 0, 2, 7, 6, 5, 0, 2,\n",
       "       9, 5, 8, 2, 9, 2, 7, 3, 5, 4, 1, 0, 8, 9, 5, 5, 4, 9, 8, 6, 2, 1,\n",
       "       0, 3, 9, 1, 6, 7, 8, 0, 4, 7, 4, 5, 9, 9, 1, 5, 9, 7, 5, 8, 0, 6,\n",
       "       1, 8, 4, 9, 1, 9, 1, 9, 7, 8, 6, 8, 8, 9, 3, 5, 0, 1, 8, 9, 6, 9,\n",
       "       5, 8, 1, 2, 9, 7, 7, 4, 8, 0, 6, 0, 0, 0, 7, 4, 9, 9, 1, 5, 2, 0,\n",
       "       2, 2, 4, 2, 6, 8, 0, 7, 3, 1, 4, 0, 0, 8, 9, 0, 1, 5, 3, 6, 1, 8,\n",
       "       6, 3, 7, 7, 5, 7, 7, 2, 0, 4, 1, 0, 2, 1, 6, 3, 4, 5, 0, 9, 7, 9,\n",
       "       1, 7, 1, 1, 0, 5, 9, 0, 5, 1, 9, 3, 2, 9, 1, 6, 6, 7, 4, 0, 5, 9,\n",
       "       0, 7, 2, 4, 6, 5, 1, 2, 2, 7, 2, 5, 7, 7, 6, 7, 3, 6, 9, 8, 1, 9,\n",
       "       6, 2, 8, 7, 6, 6, 3, 6, 1, 3, 1, 4, 9, 5, 8, 5, 3, 8, 1, 5, 3, 9,\n",
       "       3, 7, 4, 7, 7, 3, 6, 0, 3, 2, 8, 7, 4, 4, 7, 9, 2, 2, 8, 0, 7, 6,\n",
       "       2, 2, 1, 2, 9, 9, 0, 9, 9, 3, 6, 0, 5, 4, 8, 6, 1, 1, 7, 2, 6, 0,\n",
       "       9, 4, 6, 6, 3, 7, 1, 6, 9, 4, 0, 7, 1, 0, 0, 6, 7, 2, 1, 7, 4, 8,\n",
       "       0, 8, 0, 1, 7, 0, 8, 9, 9, 5, 2, 4, 2, 4, 7, 6, 9, 7, 2, 3, 4, 1,\n",
       "       5, 3, 0, 0, 7, 2, 9, 6, 1, 9, 6, 1, 4, 1, 3, 8, 6, 1, 6, 9, 3, 2,\n",
       "       2, 8, 3, 4, 1, 6, 3, 6, 1, 5, 7, 4, 1, 0, 0, 8, 7, 6, 1, 1, 0, 3,\n",
       "       0, 1, 9, 5, 7, 6, 7, 6, 1, 4, 6, 0, 2, 9, 7, 1, 3, 3, 5, 3, 5, 4,\n",
       "       8, 4, 0, 8, 5, 8, 6, 2, 3, 1, 2, 8, 4, 5, 4, 2, 9, 3, 5, 4, 7, 3,\n",
       "       7, 5, 3, 8, 9, 5, 4, 5, 0, 2, 0, 3, 5, 0, 3, 2, 4, 9])"
      ]
     },
     "execution_count": 12,
     "metadata": {},
     "output_type": "execute_result"
    }
   ],
   "source": [
    "%time my_clf.predict(X_test)"
   ]
  },
  {
   "cell_type": "code",
   "execution_count": 13,
   "metadata": {},
   "outputs": [
    {
     "name": "stdout",
     "output_type": "stream",
     "text": [
      "CPU times: user 59.3 s, sys: 11.8 ms, total: 59.3 s\n",
      "Wall time: 59.4 s\n"
     ]
    },
    {
     "data": {
      "text/plain": [
       "array([[1.    , 0.    , 0.    , ..., 0.    , 0.    , 0.    ],\n",
       "       [0.    , 0.    , 1.    , ..., 0.    , 0.    , 0.    ],\n",
       "       [0.    , 0.    , 0.    , ..., 0.    , 0.    , 0.    ],\n",
       "       ...,\n",
       "       [0.    , 0.    , 0.6875, ..., 0.    , 0.    , 0.    ],\n",
       "       [0.    , 0.    , 0.    , ..., 0.    , 0.    , 0.    ],\n",
       "       [0.    , 0.    , 0.    , ..., 0.    , 0.    , 1.    ]])"
      ]
     },
     "execution_count": 13,
     "metadata": {},
     "output_type": "execute_result"
    }
   ],
   "source": [
    "%time clf.predict_proba(X_test)"
   ]
  },
  {
   "cell_type": "code",
   "execution_count": 14,
   "metadata": {},
   "outputs": [
    {
     "name": "stdout",
     "output_type": "stream",
     "text": [
      "CPU times: user 52.9 s, sys: 44 ms, total: 53 s\n",
      "Wall time: 53 s\n"
     ]
    },
    {
     "data": {
      "text/plain": [
       "array([[1.    , 0.    , 0.    , ..., 0.    , 0.    , 0.    ],\n",
       "       [0.    , 0.    , 1.    , ..., 0.    , 0.    , 0.    ],\n",
       "       [0.    , 0.    , 0.    , ..., 0.    , 0.    , 0.    ],\n",
       "       ...,\n",
       "       [0.    , 0.    , 0.6875, ..., 0.    , 0.    , 0.    ],\n",
       "       [0.    , 0.    , 0.    , ..., 0.    , 0.    , 0.    ],\n",
       "       [0.    , 0.    , 0.    , ..., 0.    , 0.    , 1.    ]])"
      ]
     },
     "execution_count": 14,
     "metadata": {},
     "output_type": "execute_result"
    }
   ],
   "source": [
    "%time my_clf.predict_proba(X_test)"
   ]
  },
  {
   "cell_type": "code",
   "execution_count": 15,
   "metadata": {},
   "outputs": [
    {
     "data": {
      "text/plain": [
       "0.9628571428571429"
      ]
     },
     "execution_count": 15,
     "metadata": {},
     "output_type": "execute_result"
    }
   ],
   "source": [
    "clf.score(X_test, y_test)"
   ]
  },
  {
   "cell_type": "code",
   "execution_count": 16,
   "metadata": {},
   "outputs": [
    {
     "data": {
      "text/plain": [
       "0.9628571428571429"
      ]
     },
     "execution_count": 16,
     "metadata": {},
     "output_type": "execute_result"
    }
   ],
   "source": [
    "my_clf.score(X_test, y_test)"
   ]
  },
  {
   "cell_type": "markdown",
   "metadata": {},
   "source": [
    "Задание 5"
   ]
  },
  {
   "cell_type": "code",
   "execution_count": null,
   "metadata": {},
   "outputs": [],
   "source": [
    "# seaborn - библиотека, базирующаяся на Matplotlib,\n",
    "#           но оптимизированная для визуализации статистических \n",
    "#           моделей. \n",
    "#           (тепловые карты, распределения\n",
    "#            результаты математических операций)\n",
    "#\n",
    "# matplotlib - модуль для визуализации данных \n",
    "#              (позволяет использовать Python как MATLAB)\n",
    "#\n",
    "# train_test_split - функция для разделения данных \n",
    "#                    на тренировочную и тестовую выборку\n",
    "#\n",
    "# Pipelin%load_ext e (from sklearn.pipeline import Pipeline) \n",
    "#                   - служит дл объединения нескольких действий \n",
    "#                   (которые часто встречаются вместе \n",
    "#                    или отдельно не используются) в одно\n",
    "#\n",
    "# StandardScaler (from sklearn.preprocessing import StandardScaler)\n",
    "#                - класс для нормализации данных,\n",
    "#                приводит выборку к нулевому матожиданию\n",
    "#                и единичной дисперсии\n",
    "#\n",
    "# ClassifierMixin - базовый класс для классификаторов в sklearn\n",
    "#\n",
    "# NeighborsBase - базовый класс для kNN\n",
    "#\n",
    "# KNeighborsMixin - реализует поиск ближайших соседей\n",
    "#\n",
    "# SupervisedIntegerMixin - реализует fit"
   ]
  }
 ],
 "metadata": {
  "kernelspec": {
   "display_name": "Python 3",
   "language": "python",
   "name": "python3"
  },
  "language_info": {
   "codemirror_mode": {
    "name": "ipython",
    "version": 3
   },
   "file_extension": ".py",
   "mimetype": "text/x-python",
   "name": "python",
   "nbconvert_exporter": "python",
   "pygments_lexer": "ipython3",
   "version": "3.7.1"
  }
 },
 "nbformat": 4,
 "nbformat_minor": 2
}
